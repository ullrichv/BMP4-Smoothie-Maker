{
 "cells": [
  {
   "cell_type": "markdown",
   "metadata": {},
   "source": [
    "## Importe"
   ]
  },
  {
   "cell_type": "code",
   "execution_count": null,
   "metadata": {
    "scrolled": true
   },
   "outputs": [],
   "source": [
    "import matplotlib.pyplot as plt\n",
    "from ipywidgets import interact, interactive, fixed, interact_manual\n",
    "import ipywidgets as widgets"
   ]
  },
  {
   "cell_type": "markdown",
   "metadata": {},
   "source": [
    "## Definition der Variabeln anhand Dictionary (Vitamingehalt in mg je 1g Zutat)"
   ]
  },
  {
   "cell_type": "code",
   "execution_count": null,
   "metadata": {},
   "outputs": [],
   "source": [
    "Apfel = {\"VitaminA\": 0.00003 , \"VitaminC\":0.01 , \"VitaminE\": 0.005, \"VitaminB1\": 0.0004, \"VitaminB2\": 0.0003} \n",
    "Ananas = {\"VitaminA\": 0.00003, \"VitaminC\":0.02 , \"VitaminE\": 0.001, \"VitaminB1\": 0.0008, \"VitaminB2\": 0.0003} \n",
    "Banane = {\"VitaminA\": 0.00003 , \"VitaminC\":0.01 , \"VitaminE\": 0.003, \"VitaminB1\": 0.0004, \"VitaminB2\": 0.0006} \n",
    "Erdbeere = {\"VitaminA\": 0.00001 , \"VitaminC\":0.055 , \"VitaminE\": 0.001, \"VitaminB1\": 0.0003, \"VitaminB2\": 0.0005} \n",
    "Gurke = {\"VitaminA\": 0.00005 , \"VitaminC\":0.08 , \"VitaminE\": 0.001, \"VitaminB1\": 0.0002, \"VitaminB2\": 0.0003} \n",
    "Heidelbeere = {\"VitaminA\": 0.00003 , \"VitaminC\":0.02 , \"VitaminE\": 0.021, \"VitaminB1\": 0.0002, \"VitaminB2\": 0.0003} \n",
    "Himbeere = {\"VitaminA\": 0.00002 , \"VitaminC\":0.025 , \"VitaminE\": 0.009, \"VitaminB1\": 0.0002, \"VitaminB2\": 0.0002} \n",
    "Joghurt = {\"VitaminA\": 0.0014 , \"VitaminC\":0.008 , \"VitaminE\": 0, \"VitaminB1\": 0.44, \"VitaminB2\": 2.14} \n",
    "Kiwi = {\"VitaminA\": 0.00004 , \"VitaminC\":0.045 , \"VitaminE\": 0.005, \"VitaminB1\": 0.0002, \"VitaminB2\": 0.0005} \n",
    "Mango = {\"VitaminA\": 0.0054 , \"VitaminC\":0.035 , \"VitaminE\": 0.01, \"VitaminB1\": 0.0005, \"VitaminB2\": 0.0005} \n",
    "Milch = {\"VitaminA\": 0.0037 , \"VitaminC\":0.02 , \"VitaminE\": 0.001, \"VitaminB1\": 0.0004, \"VitaminB2\": 0.0018} \n",
    "Orange = {\"VitaminA\": 0.0011 , \"VitaminC\":0.045 , \"VitaminE\": 0.003, \"VitaminB1\": 0.0008, \"VitaminB2\": 0.0004} \n",
    "Spinat = {\"VitaminA\": 0.0047 , \"VitaminC\":0.05 , \"VitaminE\": 0.014, \"VitaminB1\": 0.0009, \"VitaminB2\": 0.002} \n",
    "Zitrone = {\"VitaminA\": 0.00001 , \"VitaminC\":0.005 , \"VitaminE\": 0.002, \"VitaminB1\": 0.0005, \"VitaminB2\": 0.0002} "
   ]
  },
  {
   "cell_type": "markdown",
   "metadata": {},
   "source": [
    "## Vitaminbedarf nach Alter und Geschlecht "
   ]
  },
  {
   "cell_type": "code",
   "execution_count": null,
   "metadata": {},
   "outputs": [],
   "source": [
    "class PersonenGruppe:\n",
    "    def __init__(self, geschlecht, alter):\n",
    "        self.geschlecht = geschlecht\n",
    "        self.alter = alter\n",
    "        if self.alter <= 25:\n",
    "            if self.geschlecht == \"männlich\":\n",
    "                self.vitaminhaushalt= {\"VitaminA\": 1, \"VitaminC\": 100, \"VitaminE\": 15, \"VitaminB1\":1.3, \"VitaminB2\": 1.5}\n",
    "        \n",
    "            elif self.geschlecht == \"weiblich\":\n",
    "                 self.vitaminhaushalt= {\"VitaminA\": 0.8, \"VitaminC\": 100, \"VitaminE\": 12, \"VitaminB1\": 1.0, \"VitaminB2\": 1.2}\n",
    "        if self.alter >= 51:\n",
    "            if self.geschlecht == \"männlich\":\n",
    "                self.vitaminhaushalt= {\"VitaminA\": 1, \"VitaminC\": 100, \"VitaminE\": 13, \"VitaminB1\": 1.1, \"VitaminB2\": 1.3}\n",
    "        \n",
    "            elif self.geschlecht == \"weiblich\":\n",
    "                 self.vitaminhaushalt= {\"VitaminA\": 0.8, \"VitaminC\": 100, \"VitaminE\": 12, \"VitaminB1\":1.0, \"VitaminB2\": 1.2}\n",
    "        else: \n",
    "            if self.geschlecht == \"männlich\":\n",
    "                self.vitaminhaushalt = {\"VitaminA\": 1, \"VitaminC\": 100, \"VitaminE\": 14, \"VitaminB1\": 1.2, \"VitaminB2\": 1.4}\n",
    "        \n",
    "            elif self.geschlecht == \"weiblich\":\n",
    "                 self.vitaminhaushalt = {\"VitaminA\": 0.8, \"VitaminC\": 100, \"VitaminE\": 12, \"VitaminB1\":1.0, \"VitaminB2\": 1.2}\n",
    "            \n",
    "    def gibGeschlecht(self):\n",
    "        return self.geschlecht\n",
    "    \n",
    "    def gibAlter(self):\n",
    "        return self.alter\n",
    "\n",
    "    def gibVitaminhaushalt(self):\n",
    "        return self.vitaminhaushalt"
   ]
  },
  {
   "cell_type": "markdown",
   "metadata": {},
   "source": [
    "## Auswahl der Zutaten per Slider  "
   ]
  },
  {
   "cell_type": "code",
   "execution_count": null,
   "metadata": {
    "scrolled": false
   },
   "outputs": [],
   "source": [
    "HimbeereSlider = widgets.IntSlider(\n",
    "    min = 0,\n",
    "    max = 250,)\n",
    "BananeSlider = widgets.IntSlider(\n",
    "    min = 0,\n",
    "    max = 250,)\n",
    "HeidelbeereSlider = widgets.IntSlider(\n",
    "    min = 0,\n",
    "    max = 250,)\n",
    "ErdbeereSlider = widgets.IntSlider(\n",
    "    min = 0,\n",
    "    max = 250,)\n",
    "OrangeSlider = widgets.IntSlider(\n",
    "    min = 0,\n",
    "    max = 250,)\n",
    "GurkeSlider = widgets.IntSlider(\n",
    "    min = 0,\n",
    "    max = 250,)\n",
    "ZitroneSlider = widgets.IntSlider(\n",
    "    min = 0,\n",
    "    max = 250,)\n",
    "KiwiSlider = widgets.IntSlider(\n",
    "    min = 0,\n",
    "    max = 250,)\n",
    "AnanasSlider = widgets.IntSlider(\n",
    "    min = 0,\n",
    "    max = 250,)\n",
    "ApfelSlider = widgets.IntSlider(\n",
    "    min = 0,\n",
    "    max = 250,)\n",
    "MangoSlider = widgets.IntSlider(\n",
    "    min = 0,\n",
    "    max = 250,)\n",
    "SpinatSlider = widgets.IntSlider(\n",
    "    min = 0,\n",
    "    max = 250,)\n",
    "MilchSlider = widgets.IntSlider(\n",
    "    min = 0,\n",
    "    max = 250,)\n",
    "JoghurtSlider = widgets.IntSlider(\n",
    "    min = 0,\n",
    "    max = 250,)"
   ]
  },
  {
   "cell_type": "markdown",
   "metadata": {},
   "source": [
    "## Lass uns beginnen!"
   ]
  },
  {
   "cell_type": "code",
   "execution_count": null,
   "metadata": {},
   "outputs": [],
   "source": [
    "print('Lass uns deinen Vitaminbedarf berechnen')\n",
    "\n",
    "Geschlecht = input('Bist du männlich oder weiblich?')\n",
    "Alter = int(input('Wie alt bist du?'))"
   ]
  },
  {
   "cell_type": "code",
   "execution_count": null,
   "metadata": {
    "scrolled": true
   },
   "outputs": [],
   "source": [
    "MeinePersonengruppe = PersonenGruppe(Geschlecht, Alter)"
   ]
  },
  {
   "cell_type": "markdown",
   "metadata": {},
   "source": [
    "## Dein Tagesbedarf in mg für die einzelnen Vitamine"
   ]
  },
  {
   "cell_type": "code",
   "execution_count": null,
   "metadata": {},
   "outputs": [],
   "source": [
    "fig = plt.figure()\n",
    "ax = fig.add_axes([0,0,1,1.5])\n",
    "ax.bar(MeinePersonengruppe.gibVitaminhaushalt().keys(),MeinePersonengruppe.gibVitaminhaushalt().values())\n",
    "for index, value in enumerate(MeinePersonengruppe.gibVitaminhaushalt().values()):\n",
    "    ax.text(index, value, str(value))\n",
    "plt.show()"
   ]
  },
  {
   "cell_type": "markdown",
   "metadata": {},
   "source": [
    "## Wähle deinen Zutaten"
   ]
  },
  {
   "cell_type": "code",
   "execution_count": null,
   "metadata": {},
   "outputs": [],
   "source": [
    "print(\"Himbeere in Gramm\")\n",
    "display(HimbeereSlider)\n",
    "print(\"Banane in Gramm\")\n",
    "display(BananeSlider)\n",
    "print(\"Heidelbeere in Gramm\")\n",
    "display(HeidelbeereSlider)\n",
    "print(\"Erdbeere in Gramm\")\n",
    "display(ErdbeereSlider)\n",
    "print(\"Orange in Gramm\")\n",
    "display(OrangeSlider)\n",
    "print(\"Gurke in Gramm\")\n",
    "display(GurkeSlider)\n",
    "print(\"Zitrone in Gramm\")\n",
    "display(ZitroneSlider)\n",
    "print(\"Kiwi in Gramm\")\n",
    "display(KiwiSlider)\n",
    "print(\"Ananas in Gramm\")\n",
    "display(AnanasSlider)\n",
    "print(\"Apfel in Gramm\")\n",
    "display(ApfelSlider)\n",
    "print(\"Mango in Gramm\")\n",
    "display(MangoSlider)\n",
    "print(\"Spinat in Gramm\")\n",
    "display(SpinatSlider)\n",
    "print(\"Milch in Gramm\")\n",
    "display(MilchSlider)\n",
    "print(\"Joghurt in Gramm\")\n",
    "display(JoghurtSlider)"
   ]
  },
  {
   "cell_type": "markdown",
   "metadata": {},
   "source": [
    "## Addition der Vitaminwerte der gewählten Zutaten"
   ]
  },
  {
   "cell_type": "code",
   "execution_count": null,
   "metadata": {},
   "outputs": [],
   "source": [
    "Vitaminhaushalt = {}"
   ]
  },
  {
   "cell_type": "code",
   "execution_count": null,
   "metadata": {},
   "outputs": [],
   "source": [
    "achsenListe1 = []\n",
    "achsenListe2 = []"
   ]
  },
  {
   "cell_type": "code",
   "execution_count": null,
   "metadata": {},
   "outputs": [],
   "source": [
    "for Vitamin in Apfel.keys():\n",
    "    Vitaminhaushalt[Vitamin]= HimbeereSlider.value * Himbeere[Vitamin] + BananeSlider.value * Banane[Vitamin] + HeidelbeereSlider.value * Heidelbeere[Vitamin] + ErdbeereSlider.value * Erdbeere[Vitamin] + OrangeSlider.value * Orange[Vitamin] + GurkeSlider.value * Gurke[Vitamin] + ZitroneSlider.value * Zitrone[Vitamin] + KiwiSlider.value * Kiwi[Vitamin] + AnanasSlider.value * Ananas[Vitamin] + ApfelSlider.value * Apfel[Vitamin] + MangoSlider.value * Mango[Vitamin] + SpinatSlider.value * Spinat[Vitamin] + MilchSlider.value * Milch[Vitamin] + JoghurtSlider.value * Joghurt[Vitamin] \n",
    "    achsenListe2.append(round(Vitaminhaushalt[Vitamin],2))\n",
    "    achsenListe1.append(Vitamin)"
   ]
  },
  {
   "cell_type": "markdown",
   "metadata": {},
   "source": [
    "## Diagramm der Vitamine in deinem Smoothie"
   ]
  },
  {
   "cell_type": "code",
   "execution_count": null,
   "metadata": {},
   "outputs": [],
   "source": [
    "fig = plt.figure()\n",
    "ax = fig.add_axes([0,0,1,1.5])\n",
    "ax.bar(achsenListe1,achsenListe2)\n",
    "for index, value in enumerate(achsenListe2):\n",
    "    ax.text(index, value, str(value))\n",
    "plt.show()\n"
   ]
  },
  {
   "cell_type": "markdown",
   "metadata": {},
   "source": [
    "## Tagesbedarf mit Smoothie vergleichen"
   ]
  },
  {
   "cell_type": "code",
   "execution_count": null,
   "metadata": {},
   "outputs": [],
   "source": [
    "for Vitamin in Apfel.keys():\n",
    "    if Vitaminhaushalt[Vitamin] >= MeinePersonengruppe.gibVitaminhaushalt()[Vitamin]: \n",
    "        print(\"Prima! Dein Vitaminbedarf an \" + Vitamin + \" ist gedeckt! :)\")\n",
    "    elif Vitaminhaushalt[Vitamin] < MeinePersonengruppe.gibVitaminhaushalt()[Vitamin]:\n",
    "        Bedarfquote= round(Vitaminhaushalt[Vitamin]/MeinePersonengruppe.gibVitaminhaushalt()[Vitamin]*100,1)\n",
    "        print(\"Schade, dein Vitaminbedarf an \" + Vitamin + \" ist erst zu \" + str(Bedarfquote) + \"% gedeckt! Du solltest heute noch mehr \" + Vitamin + \" zu dir nehmen.\" ) \n",
    "        "
   ]
  },
  {
   "cell_type": "code",
   "execution_count": null,
   "metadata": {},
   "outputs": [],
   "source": []
  }
 ],
 "metadata": {
  "kernelspec": {
   "display_name": "Python 3",
   "language": "python",
   "name": "python3"
  },
  "language_info": {
   "codemirror_mode": {
    "name": "ipython",
    "version": 3
   },
   "file_extension": ".py",
   "mimetype": "text/x-python",
   "name": "python",
   "nbconvert_exporter": "python",
   "pygments_lexer": "ipython3",
   "version": "3.8.5"
  }
 },
 "nbformat": 4,
 "nbformat_minor": 4
}
